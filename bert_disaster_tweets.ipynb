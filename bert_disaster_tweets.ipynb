{
 "cells": [
  {
   "cell_type": "markdown",
   "metadata": {
    "id": "CUNqjawDZhh4"
   },
   "source": [
    "# Text categorization with BERT\n",
    "\n",
    "This notebook aim to test the [transformer](https://pypi.org/project/transformers/) python package developed by [huggingface](https://github.com/huggingface) which gives access to pretrained BERT models. In order to test this package and model we will use the dataset [Disaster Tweets](https://www.kaggle.com/c/nlp-getting-started) available on kaggle. I will personally run this notebook on a google colab in order to use the free GPUs, but you could run it on any other computer or VM.\n",
    "\n",
    "#### Requierments:\n",
    "- numpy==1.19.5\n",
    "- pandas==1.1.5\n",
    "- matplotlib==3.2.2\n",
    "- torch==1.8.1+cu101\n",
    "- transformers==4.5.1\n",
    "- sklearn==0.0"
   ]
  },
  {
   "cell_type": "markdown",
   "metadata": {
    "id": "rfyUYcakZhh_"
   },
   "source": [
    "### This cell need to be ran only if you are using google colab"
   ]
  },
  {
   "cell_type": "code",
   "execution_count": 1,
   "metadata": {
    "colab": {
     "base_uri": "https://localhost:8080/"
    },
    "id": "84Pz5egiVxTZ",
    "outputId": "de6f0783-63ce-47d9-d6e5-780fc7358fef"
   },
   "outputs": [
    {
     "name": "stdout",
     "output_type": "stream",
     "text": [
      "Mounted at /content/drive/\n",
      "Requirement already satisfied: transformers in /usr/local/lib/python3.7/dist-packages (4.6.0)\n",
      "Requirement already satisfied: sacremoses in /usr/local/lib/python3.7/dist-packages (from transformers) (0.0.45)\n",
      "Requirement already satisfied: tokenizers<0.11,>=0.10.1 in /usr/local/lib/python3.7/dist-packages (from transformers) (0.10.2)\n",
      "Requirement already satisfied: importlib-metadata; python_version < \"3.8\" in /usr/local/lib/python3.7/dist-packages (from transformers) (4.0.1)\n",
      "Requirement already satisfied: regex!=2019.12.17 in /usr/local/lib/python3.7/dist-packages (from transformers) (2019.12.20)\n",
      "Requirement already satisfied: numpy>=1.17 in /usr/local/lib/python3.7/dist-packages (from transformers) (1.19.5)\n",
      "Requirement already satisfied: filelock in /usr/local/lib/python3.7/dist-packages (from transformers) (3.0.12)\n",
      "Requirement already satisfied: tqdm>=4.27 in /usr/local/lib/python3.7/dist-packages (from transformers) (4.41.1)\n",
      "Requirement already satisfied: huggingface-hub==0.0.8 in /usr/local/lib/python3.7/dist-packages (from transformers) (0.0.8)\n",
      "Requirement already satisfied: packaging in /usr/local/lib/python3.7/dist-packages (from transformers) (20.9)\n",
      "Requirement already satisfied: requests in /usr/local/lib/python3.7/dist-packages (from transformers) (2.23.0)\n",
      "Requirement already satisfied: joblib in /usr/local/lib/python3.7/dist-packages (from sacremoses->transformers) (1.0.1)\n",
      "Requirement already satisfied: six in /usr/local/lib/python3.7/dist-packages (from sacremoses->transformers) (1.15.0)\n",
      "Requirement already satisfied: click in /usr/local/lib/python3.7/dist-packages (from sacremoses->transformers) (7.1.2)\n",
      "Requirement already satisfied: zipp>=0.5 in /usr/local/lib/python3.7/dist-packages (from importlib-metadata; python_version < \"3.8\"->transformers) (3.4.1)\n",
      "Requirement already satisfied: typing-extensions>=3.6.4; python_version < \"3.8\" in /usr/local/lib/python3.7/dist-packages (from importlib-metadata; python_version < \"3.8\"->transformers) (3.7.4.3)\n",
      "Requirement already satisfied: pyparsing>=2.0.2 in /usr/local/lib/python3.7/dist-packages (from packaging->transformers) (2.4.7)\n",
      "Requirement already satisfied: chardet<4,>=3.0.2 in /usr/local/lib/python3.7/dist-packages (from requests->transformers) (3.0.4)\n",
      "Requirement already satisfied: urllib3!=1.25.0,!=1.25.1,<1.26,>=1.21.1 in /usr/local/lib/python3.7/dist-packages (from requests->transformers) (1.24.3)\n",
      "Requirement already satisfied: certifi>=2017.4.17 in /usr/local/lib/python3.7/dist-packages (from requests->transformers) (2020.12.5)\n",
      "Requirement already satisfied: idna<3,>=2.5 in /usr/local/lib/python3.7/dist-packages (from requests->transformers) (2.10)\n"
     ]
    }
   ],
   "source": [
    "from google.colab import drive\n",
    "drive.mount(\"/content/drive/\", force_remount=True)\n",
    "import os\n",
    "os.chdir('drive/MyDrive/NLP/Disaster_tweets/src')\n",
    "!pip install transformers"
   ]
  },
  {
   "cell_type": "markdown",
   "metadata": {
    "id": "acg4qURJZhiA"
   },
   "source": [
    "## Imports"
   ]
  },
  {
   "cell_type": "code",
   "execution_count": 2,
   "metadata": {
    "id": "sov443QOW6-F"
   },
   "outputs": [],
   "source": [
    "import numpy as np\n",
    "import pandas as pd\n",
    "import seaborn as sns\n",
    "import matplotlib.pyplot as plt\n",
    "\n",
    "import torch\n",
    "from torch import nn\n",
    "from torch.utils.data import DataLoader, RandomSampler, SequentialSampler, TensorDataset, random_split\n",
    "\n",
    "from transformers import get_linear_schedule_with_warmup\n",
    "from transformers import AdamW, BertConfig, BertModel, BertTokenizer\n",
    "\n",
    "from sklearn.metrics import f1_score, accuracy_score, confusion_matrix"
   ]
  },
  {
   "cell_type": "markdown",
   "metadata": {
    "id": "9GghvC0IZhiB"
   },
   "source": [
    "## Environement setup\n",
    "\n",
    "We look if cuda is available and if so we indicate to PyTorch to run on the GPU instead of the CPU."
   ]
  },
  {
   "cell_type": "code",
   "execution_count": 3,
   "metadata": {
    "colab": {
     "base_uri": "https://localhost:8080/"
    },
    "id": "EF4Ta3m9ZhiB",
    "outputId": "9de0c6f7-1ea5-45a3-fe7e-052f4bcfb758"
   },
   "outputs": [
    {
     "data": {
      "text/plain": [
       "device(type='cuda')"
      ]
     },
     "execution_count": 3,
     "metadata": {
      "tags": []
     },
     "output_type": "execute_result"
    }
   ],
   "source": [
    "# select device\n",
    "if torch.cuda.is_available():        \n",
    "    device = torch.device(\"cuda\")\n",
    "else:\n",
    "    device = torch.device(\"cpu\")\n",
    "\n",
    "device"
   ]
  },
  {
   "cell_type": "markdown",
   "metadata": {
    "id": "ouywGMVFZhiC"
   },
   "source": [
    "## Data loading"
   ]
  },
  {
   "cell_type": "code",
   "execution_count": 4,
   "metadata": {
    "colab": {
     "base_uri": "https://localhost:8080/",
     "height": 419
    },
    "id": "6_cV8VSpXYh6",
    "outputId": "33f669ca-a783-42c0-e47d-761718df2587"
   },
   "outputs": [
    {
     "data": {
      "text/html": [
       "<div>\n",
       "<style scoped>\n",
       "    .dataframe tbody tr th:only-of-type {\n",
       "        vertical-align: middle;\n",
       "    }\n",
       "\n",
       "    .dataframe tbody tr th {\n",
       "        vertical-align: top;\n",
       "    }\n",
       "\n",
       "    .dataframe thead th {\n",
       "        text-align: right;\n",
       "    }\n",
       "</style>\n",
       "<table border=\"1\" class=\"dataframe\">\n",
       "  <thead>\n",
       "    <tr style=\"text-align: right;\">\n",
       "      <th></th>\n",
       "      <th>text</th>\n",
       "      <th>target</th>\n",
       "    </tr>\n",
       "  </thead>\n",
       "  <tbody>\n",
       "    <tr>\n",
       "      <th>0</th>\n",
       "      <td>Our Deeds are the Reason of this #earthquake M...</td>\n",
       "      <td>1</td>\n",
       "    </tr>\n",
       "    <tr>\n",
       "      <th>1</th>\n",
       "      <td>Forest fire near La Ronge Sask. Canada</td>\n",
       "      <td>1</td>\n",
       "    </tr>\n",
       "    <tr>\n",
       "      <th>2</th>\n",
       "      <td>All residents asked to 'shelter in place' are ...</td>\n",
       "      <td>1</td>\n",
       "    </tr>\n",
       "    <tr>\n",
       "      <th>3</th>\n",
       "      <td>13,000 people receive #wildfires evacuation or...</td>\n",
       "      <td>1</td>\n",
       "    </tr>\n",
       "    <tr>\n",
       "      <th>4</th>\n",
       "      <td>Just got sent this photo from Ruby #Alaska as ...</td>\n",
       "      <td>1</td>\n",
       "    </tr>\n",
       "    <tr>\n",
       "      <th>...</th>\n",
       "      <td>...</td>\n",
       "      <td>...</td>\n",
       "    </tr>\n",
       "    <tr>\n",
       "      <th>7608</th>\n",
       "      <td>Two giant cranes holding a bridge collapse int...</td>\n",
       "      <td>1</td>\n",
       "    </tr>\n",
       "    <tr>\n",
       "      <th>7609</th>\n",
       "      <td>@aria_ahrary @TheTawniest The out of control w...</td>\n",
       "      <td>1</td>\n",
       "    </tr>\n",
       "    <tr>\n",
       "      <th>7610</th>\n",
       "      <td>M1.94 [01:04 UTC]?5km S of Volcano Hawaii. htt...</td>\n",
       "      <td>1</td>\n",
       "    </tr>\n",
       "    <tr>\n",
       "      <th>7611</th>\n",
       "      <td>Police investigating after an e-bike collided ...</td>\n",
       "      <td>1</td>\n",
       "    </tr>\n",
       "    <tr>\n",
       "      <th>7612</th>\n",
       "      <td>The Latest: More Homes Razed by Northern Calif...</td>\n",
       "      <td>1</td>\n",
       "    </tr>\n",
       "  </tbody>\n",
       "</table>\n",
       "<p>7613 rows × 2 columns</p>\n",
       "</div>"
      ],
      "text/plain": [
       "                                                   text  target\n",
       "0     Our Deeds are the Reason of this #earthquake M...       1\n",
       "1                Forest fire near La Ronge Sask. Canada       1\n",
       "2     All residents asked to 'shelter in place' are ...       1\n",
       "3     13,000 people receive #wildfires evacuation or...       1\n",
       "4     Just got sent this photo from Ruby #Alaska as ...       1\n",
       "...                                                 ...     ...\n",
       "7608  Two giant cranes holding a bridge collapse int...       1\n",
       "7609  @aria_ahrary @TheTawniest The out of control w...       1\n",
       "7610  M1.94 [01:04 UTC]?5km S of Volcano Hawaii. htt...       1\n",
       "7611  Police investigating after an e-bike collided ...       1\n",
       "7612  The Latest: More Homes Razed by Northern Calif...       1\n",
       "\n",
       "[7613 rows x 2 columns]"
      ]
     },
     "execution_count": 4,
     "metadata": {
      "tags": []
     },
     "output_type": "execute_result"
    }
   ],
   "source": [
    "tweets = pd.read_csv(\"../data/disaster_tweets.csv\").loc[:,[\"text\",\"target\"]]\n",
    "tweets"
   ]
  },
  {
   "cell_type": "markdown",
   "metadata": {
    "id": "ecqY_Z7SdyJ-"
   },
   "source": [
    "### Check of the target balance"
   ]
  },
  {
   "cell_type": "code",
   "execution_count": 5,
   "metadata": {
    "colab": {
     "base_uri": "https://localhost:8080/"
    },
    "id": "4jTVeBQWdqiV",
    "outputId": "01452a43-9f29-43dd-f2e0-55eba4c6ddd7"
   },
   "outputs": [
    {
     "data": {
      "text/plain": [
       "0    4342\n",
       "1    3271\n",
       "Name: target, dtype: int64"
      ]
     },
     "execution_count": 5,
     "metadata": {
      "tags": []
     },
     "output_type": "execute_result"
    }
   ],
   "source": [
    "tweets['target'].value_counts()"
   ]
  },
  {
   "cell_type": "markdown",
   "metadata": {
    "id": "MT9zx82NX5Tr",
    "outputId": "2f8f0120-bd4e-4bec-f961-e94c05ed9e28"
   },
   "source": [
    "## Data preprocessing\n",
    "We look for duplicates in the data and remove them."
   ]
  },
  {
   "cell_type": "code",
   "execution_count": 6,
   "metadata": {
    "colab": {
     "base_uri": "https://localhost:8080/",
     "height": 453
    },
    "id": "Qw-9RoEXYWUJ",
    "outputId": "5085d1ca-18eb-473c-8b48-c72eb12ca462"
   },
   "outputs": [
    {
     "name": "stdout",
     "output_type": "stream",
     "text": [
      "92  duplicates found\n",
      "removing...\n"
     ]
    },
    {
     "data": {
      "text/html": [
       "<div>\n",
       "<style scoped>\n",
       "    .dataframe tbody tr th:only-of-type {\n",
       "        vertical-align: middle;\n",
       "    }\n",
       "\n",
       "    .dataframe tbody tr th {\n",
       "        vertical-align: top;\n",
       "    }\n",
       "\n",
       "    .dataframe thead th {\n",
       "        text-align: right;\n",
       "    }\n",
       "</style>\n",
       "<table border=\"1\" class=\"dataframe\">\n",
       "  <thead>\n",
       "    <tr style=\"text-align: right;\">\n",
       "      <th></th>\n",
       "      <th>text</th>\n",
       "      <th>target</th>\n",
       "    </tr>\n",
       "  </thead>\n",
       "  <tbody>\n",
       "    <tr>\n",
       "      <th>0</th>\n",
       "      <td>Our Deeds are the Reason of this #earthquake M...</td>\n",
       "      <td>1</td>\n",
       "    </tr>\n",
       "    <tr>\n",
       "      <th>1</th>\n",
       "      <td>Forest fire near La Ronge Sask. Canada</td>\n",
       "      <td>1</td>\n",
       "    </tr>\n",
       "    <tr>\n",
       "      <th>2</th>\n",
       "      <td>All residents asked to 'shelter in place' are ...</td>\n",
       "      <td>1</td>\n",
       "    </tr>\n",
       "    <tr>\n",
       "      <th>3</th>\n",
       "      <td>13,000 people receive #wildfires evacuation or...</td>\n",
       "      <td>1</td>\n",
       "    </tr>\n",
       "    <tr>\n",
       "      <th>4</th>\n",
       "      <td>Just got sent this photo from Ruby #Alaska as ...</td>\n",
       "      <td>1</td>\n",
       "    </tr>\n",
       "    <tr>\n",
       "      <th>...</th>\n",
       "      <td>...</td>\n",
       "      <td>...</td>\n",
       "    </tr>\n",
       "    <tr>\n",
       "      <th>7604</th>\n",
       "      <td>#WorldNews Fallen powerlines on G:link tram: U...</td>\n",
       "      <td>1</td>\n",
       "    </tr>\n",
       "    <tr>\n",
       "      <th>7605</th>\n",
       "      <td>on the flip side I'm at Walmart and there is a...</td>\n",
       "      <td>1</td>\n",
       "    </tr>\n",
       "    <tr>\n",
       "      <th>7606</th>\n",
       "      <td>Suicide bomber kills 15 in Saudi security site...</td>\n",
       "      <td>1</td>\n",
       "    </tr>\n",
       "    <tr>\n",
       "      <th>7608</th>\n",
       "      <td>Two giant cranes holding a bridge collapse int...</td>\n",
       "      <td>1</td>\n",
       "    </tr>\n",
       "    <tr>\n",
       "      <th>7612</th>\n",
       "      <td>The Latest: More Homes Razed by Northern Calif...</td>\n",
       "      <td>1</td>\n",
       "    </tr>\n",
       "  </tbody>\n",
       "</table>\n",
       "<p>7521 rows × 2 columns</p>\n",
       "</div>"
      ],
      "text/plain": [
       "                                                   text  target\n",
       "0     Our Deeds are the Reason of this #earthquake M...       1\n",
       "1                Forest fire near La Ronge Sask. Canada       1\n",
       "2     All residents asked to 'shelter in place' are ...       1\n",
       "3     13,000 people receive #wildfires evacuation or...       1\n",
       "4     Just got sent this photo from Ruby #Alaska as ...       1\n",
       "...                                                 ...     ...\n",
       "7604  #WorldNews Fallen powerlines on G:link tram: U...       1\n",
       "7605  on the flip side I'm at Walmart and there is a...       1\n",
       "7606  Suicide bomber kills 15 in Saudi security site...       1\n",
       "7608  Two giant cranes holding a bridge collapse int...       1\n",
       "7612  The Latest: More Homes Razed by Northern Calif...       1\n",
       "\n",
       "[7521 rows x 2 columns]"
      ]
     },
     "execution_count": 6,
     "metadata": {
      "tags": []
     },
     "output_type": "execute_result"
    }
   ],
   "source": [
    "dupli_sum = tweets.duplicated().sum()\n",
    "if(dupli_sum > 0):\n",
    "    print(dupli_sum, \" duplicates found\\nremoving...\")\n",
    "    tweets = tweets.loc[tweets.duplicated()==False, :]\n",
    "else:\n",
    "    print(\"no duplicates found\")\n",
    "tweets"
   ]
  },
  {
   "cell_type": "markdown",
   "metadata": {
    "id": "CZ8FC1bQZhiE"
   },
   "source": [
    "### Seperate the features from the label"
   ]
  },
  {
   "cell_type": "code",
   "execution_count": 7,
   "metadata": {
    "id": "J-vmPpF1Y2aH"
   },
   "outputs": [],
   "source": [
    "X_tweets = tweets[\"text\"].values\n",
    "y_tweets = tweets[\"target\"].values"
   ]
  },
  {
   "cell_type": "markdown",
   "metadata": {
    "id": "OgBspPBtZhiE"
   },
   "source": [
    "### Determination of the sequence length\n",
    "As we will use batchs for the training we have to have all tweets of the same size. The tweets which are to long will be truncated, and the tweets too short will be padded. "
   ]
  },
  {
   "cell_type": "code",
   "execution_count": 8,
   "metadata": {
    "id": "EU4nppXTY23p"
   },
   "outputs": [],
   "source": [
    "# We load BERT tokenizer\n",
    "tokenizer = BertTokenizer.from_pretrained('bert-base-uncased', do_lower_case=True)\n",
    "\n",
    "# We compute the length of each tweet in the dataset\n",
    "lens = []\n",
    "for text in X_tweets:\n",
    "    encoded_dict = tokenizer.encode_plus(text, add_special_tokens=True, return_tensors='pt')\n",
    "    lens.append(encoded_dict['input_ids'].size()[1])"
   ]
  },
  {
   "cell_type": "code",
   "execution_count": 9,
   "metadata": {
    "colab": {
     "base_uri": "https://localhost:8080/",
     "height": 347
    },
    "id": "JNRm6ZaiZGIY",
    "outputId": "63b65745-d6f7-427c-c268-aa4bf18508bd"
   },
   "outputs": [
    {
     "data": {
      "image/png": "[encoded data removed]",
      "text/plain": [
       "<Figure size 432x288 with 1 Axes>"
      ]
     },
     "metadata": {
      "needs_background": "light",
      "tags": []
     },
     "output_type": "display_data"
    },
    {
     "name": "stdout",
     "output_type": "stream",
     "text": [
      "text length mean:  33.09626379470815\n",
      "text length median:  33.0\n",
      "text length standard deviation:  12.145367271204988\n",
      "suitable sequence length:  57.38699833711813\n"
     ]
    }
   ],
   "source": [
    "plt.hist(lens, bins=40)\n",
    "plt.xlabel('Tweet length')\n",
    "plt.ylabel('Nb of tweets')\n",
    "plt.show()\n",
    "\n",
    "print(\"text length mean: \", np.array(lens).mean())\n",
    "print(\"text length median: \", np.median(lens))\n",
    "print(\"text length standard deviation: \", np.array(lens).std())\n",
    "print(\"suitable sequence length: \", np.array(lens).mean() + 2*np.array(lens).std())"
   ]
  },
  {
   "cell_type": "code",
   "execution_count": 10,
   "metadata": {
    "id": "yGDwKKywZhiF"
   },
   "outputs": [],
   "source": [
    "sequence_length = 58"
   ]
  },
  {
   "cell_type": "markdown",
   "metadata": {
    "id": "KQi-G_MKZhiF"
   },
   "source": [
    "## Tweets tockenization and tensor loading\n",
    "\n",
    "Here we tockenize all the tweets with the BERT tockenizer and load them into PyTorch tensors. We also put all the tweets at the same size using padding and truncation based on the `sequence_length` computed earlier."
   ]
  },
  {
   "cell_type": "code",
   "execution_count": 11,
   "metadata": {
    "id": "_b0wfo1AZaDw"
   },
   "outputs": [],
   "source": [
    "X_tweets_tokens = []\n",
    "\n",
    "for text in X_tweets:\n",
    "    encoded_dict = tokenizer.encode_plus(text,\n",
    "                                         add_special_tokens=True, # special tokens for BERT\n",
    "                                         max_length=sequence_length,\n",
    "                                         padding=\"max_length\",\n",
    "                                         return_tensors='pt', # pytorch tensor format\n",
    "                                         truncation=True)\n",
    "    X_tweets_tokens.append(encoded_dict['input_ids'])\n",
    "\n",
    "# pytorch expects tensors\n",
    "X_tweets_tokens = torch.cat(X_tweets_tokens, dim=0) # concat into one tensor\n",
    "y_tweets = torch.tensor(y_tweets)"
   ]
  },
  {
   "cell_type": "markdown",
   "metadata": {
    "id": "zOgiy9THZhiG"
   },
   "source": [
    "#### An example of loaded tweet:"
   ]
  },
  {
   "cell_type": "code",
   "execution_count": 12,
   "metadata": {
    "colab": {
     "base_uri": "https://localhost:8080/"
    },
    "id": "KaMT6ZyYaGpK",
    "outputId": "c05a1dcd-b5de-4d11-c3dc-2417f14f7e91"
   },
   "outputs": [
    {
     "name": "stdout",
     "output_type": "stream",
     "text": [
      "Original:\n",
      " Our Deeds are the Reason of this #earthquake May ALLAH Forgive us all\n",
      "Tokenization:\n",
      " tensor([  101,  2256, 15616,  2024,  1996,  3114,  1997,  2023,  1001,  8372,\n",
      "         2089, 16455,  9641,  2149,  2035,   102,     0,     0,     0,     0,\n",
      "            0,     0,     0,     0,     0,     0,     0,     0,     0,     0,\n",
      "            0,     0,     0,     0,     0,     0,     0,     0,     0,     0,\n",
      "            0,     0,     0,     0,     0,     0,     0,     0,     0,     0,\n",
      "            0,     0,     0,     0,     0,     0,     0,     0])\n"
     ]
    }
   ],
   "source": [
    "print('Original:\\n', X_tweets[0])\n",
    "print('Tokenization:\\n', X_tweets_tokens[0])"
   ]
  },
  {
   "cell_type": "markdown",
   "metadata": {
    "id": "V2QPgRiqZhiG"
   },
   "source": [
    "### Split the dataset between train, validation and test"
   ]
  },
  {
   "cell_type": "code",
   "execution_count": 13,
   "metadata": {
    "colab": {
     "base_uri": "https://localhost:8080/"
    },
    "id": "TuN9zDTJZhiG",
    "outputId": "74ff5d6e-5248-4a12-bd81-5b7d53664f06"
   },
   "outputs": [
    {
     "name": "stdout",
     "output_type": "stream",
     "text": [
      "Size of train set :  5264\n",
      "Size of val set :  1128\n",
      "Size of test set :  1129\n"
     ]
    }
   ],
   "source": [
    "# split into training and validation data\n",
    "dataset = TensorDataset(X_tweets_tokens, y_tweets.float())\n",
    "train_size = int(0.7 * len(dataset))\n",
    "val_size = int(0.15 * len(dataset))\n",
    "test_size = len(dataset) - (train_size + val_size)\n",
    "\n",
    "train_set, val_set, test_set = random_split(dataset, [train_size, val_size, test_size])\n",
    "\n",
    "# We rebalance the train dataset\n",
    "# unbalanced_X_train = np.array([ts[0].numpy() for ts in iter(train_set)])\n",
    "# unbalanced_y_train = np.array([ts[1].numpy() for ts in iter(train_set)])\n",
    "# train_pos_index = unbalanced_y_train > 0.5\n",
    "# train_neg_index = unbalanced_y_train < 0.5\n",
    "# train_pos_X, train_pos_y = unbalanced_X_train[train_pos_index], unbalanced_y_train[train_pos_index]\n",
    "# train_neg_X, train_neg_y = unbalanced_X_train[train_neg_index], unbalanced_y_train[train_neg_index]\n",
    "# nb_each_label_value = min(len(train_pos_y), len(train_pos_y))\n",
    "# X_train = np.concatenate([train_pos_X[:nb_each_label_value], train_neg_X[:nb_each_label_value]])\n",
    "# y_train = np.concatenate([train_pos_y[:nb_each_label_value], train_neg_y[:nb_each_label_value]])\n",
    "# train_set = TensorDataset(torch.tensor(X_train), torch.tensor(y_train).float())\n",
    "\n",
    "print(\"Size of train set : \", len(train_set))\n",
    "print(\"Size of val set : \", len(val_set))\n",
    "print(\"Size of test set : \", len(test_set))"
   ]
  },
  {
   "cell_type": "markdown",
   "metadata": {
    "id": "ZUg0-nnKc2Vz"
   },
   "source": [
    "#### Check if the train set is balanced"
   ]
  },
  {
   "cell_type": "code",
   "execution_count": 14,
   "metadata": {
    "colab": {
     "base_uri": "https://localhost:8080/"
    },
    "id": "pAYjzWHrZgo4",
    "outputId": "03cd416c-6f9c-40b6-8f87-cb85ece538dc"
   },
   "outputs": [
    {
     "data": {
      "text/plain": [
       "0.42724165"
      ]
     },
     "execution_count": 14,
     "metadata": {
      "tags": []
     },
     "output_type": "execute_result"
    }
   ],
   "source": [
    "balanced_y_train = np.array([ts[1].numpy() for ts in iter(train_set)])\n",
    "balanced_y_train.mean()"
   ]
  },
  {
   "cell_type": "markdown",
   "metadata": {
    "id": "OHSavHFXh7H7"
   },
   "source": [
    "#### *Observation:*\n",
    "The dataset is not perfectly balanced but when we tried to fix this, it made more balanced predictions but the performance were overall slightly worst."
   ]
  },
  {
   "cell_type": "markdown",
   "metadata": {
    "id": "qqpVkcy-ZhiH"
   },
   "source": [
    "### Build the PyTorch data loaders"
   ]
  },
  {
   "cell_type": "code",
   "execution_count": 15,
   "metadata": {
    "id": "s-DtbnWBaNmw"
   },
   "outputs": [],
   "source": [
    "batch_size = 32\n",
    "\n",
    "train_dataloader = DataLoader(train_set, \n",
    "                              sampler=RandomSampler(train_set), \n",
    "                              batch_size=batch_size)\n",
    "\n",
    "validation_dataloader = DataLoader(val_set, \n",
    "                                   sampler=RandomSampler(val_set), \n",
    "                                   batch_size=batch_size)\n",
    "\n",
    "test_dataloader = DataLoader(test_set, \n",
    "                             sampler=RandomSampler(test_set), \n",
    "                             batch_size=batch_size)"
   ]
  },
  {
   "cell_type": "markdown",
   "metadata": {
    "id": "1-o3SnI9ZhiH"
   },
   "source": [
    "## Buidling the model based on BERT\n",
    "\n",
    "Here we will build our model which is based on BERT (Bidirectional Encoder Representations from Transformers). BERT is basically a trained Transformer Encoder stack.\n",
    "\n",
    "<img src=\"./bert-architecture.png\" alt=\"drawing\" width=\"400\"/>\n",
    "\n",
    "The embeding in front of the special token \\[CLS\\] will provide a representation of the whole tweet, will the other embedings represent each token of the tweet. We will use the embeded tweet provided by bert as an input to a shallow neural network which will be placed at the end on the neural network.\n",
    "\n",
    "<img src=\"./bert-classifier.png\" alt=\"drawing\" width=\"400\"/>"
   ]
  },
  {
   "cell_type": "markdown",
   "metadata": {
    "id": "TFxYgr8JZhiI"
   },
   "source": [
    "### Loading BERT model\n",
    "\n",
    "We download the pretrained model bert and load it in the device. We will take this oportunity to look at the size of the BERT outputs"
   ]
  },
  {
   "cell_type": "code",
   "execution_count": 16,
   "metadata": {
    "colab": {
     "base_uri": "https://localhost:8080/"
    },
    "id": "wi-Zf8-NbEw1",
    "outputId": "ea4795d4-7139-476b-9cfb-f0ae23190414"
   },
   "outputs": [
    {
     "name": "stderr",
     "output_type": "stream",
     "text": [
      "Some weights of the model checkpoint at bert-base-uncased were not used when initializing BertModel: ['cls.predictions.transform.dense.weight', 'cls.seq_relationship.bias', 'cls.predictions.bias', 'cls.predictions.decoder.weight', 'cls.predictions.transform.LayerNorm.weight', 'cls.seq_relationship.weight', 'cls.predictions.transform.dense.bias', 'cls.predictions.transform.LayerNorm.bias']\n",
      "- This IS expected if you are initializing BertModel from the checkpoint of a model trained on another task or with another architecture (e.g. initializing a BertForSequenceClassification model from a BertForPreTraining model).\n",
      "- This IS NOT expected if you are initializing BertModel from the checkpoint of a model that you expect to be exactly identical (initializing a BertForSequenceClassification model from a BertForSequenceClassification model).\n"
     ]
    },
    {
     "name": "stdout",
     "output_type": "stream",
     "text": [
      "bert output:  <class 'transformers.modeling_outputs.BaseModelOutputWithPoolingAndCrossAttentions'> 2\n",
      "first entry:  <class 'torch.Tensor'> torch.Size([32, 58, 768])\n",
      "second entry:  <class 'torch.Tensor'> torch.Size([32, 768])\n"
     ]
    }
   ],
   "source": [
    "bert = BertModel.from_pretrained(\"bert-base-uncased\")\n",
    "bert.to(device)\n",
    "\n",
    "for batch in train_dataloader: \n",
    "    batch_features = batch[0].to(device)\n",
    "    bert_output = bert(input_ids=batch_features) \n",
    "    print(\"bert output: \", type(bert_output), len(bert_output))\n",
    "    print(\"first entry: \", type(bert_output[0]), bert_output[0].size())\n",
    "    print(\"second entry: \", type(bert_output[1]), bert_output[1].size())\n",
    "    break"
   ]
  },
  {
   "cell_type": "markdown",
   "metadata": {
    "id": "6noUfNFaZhiI"
   },
   "source": [
    "### building class of the BERT classifier\n",
    "\n",
    "As explained earlier, we simply add a linear and a sigmoid layer at the end of our model."
   ]
  },
  {
   "cell_type": "code",
   "execution_count": 17,
   "metadata": {
    "id": "v-EirErVbzYf"
   },
   "outputs": [],
   "source": [
    "class BertClassifier(nn.Module):\n",
    "    def __init__(self, dropout=0.2):\n",
    "        super(BertClassifier, self).__init__()\n",
    "        self.bert = BertModel.from_pretrained('bert-base-uncased') # returns pwerful representations of the microblogs\n",
    "        self.linear = nn.Linear(768, 1) # custom layer; input of the first custom layer has to match the dimensionality of the BERT-output; further custom layers are possible\n",
    "        self.sigmoid = nn.Sigmoid() # activation function applied to our custom layer to obtain probabilities\n",
    "    \n",
    "    def forward(self, tokens):\n",
    "        bert_output = self.bert(input_ids=tokens)\n",
    "        linear_output = self.linear(bert_output[1])\n",
    "        proba = self.sigmoid(linear_output)\n",
    "        return proba"
   ]
  },
  {
   "cell_type": "markdown",
   "metadata": {
    "id": "6iOfsI4qZhiJ"
   },
   "source": [
    "## Model training\n",
    "\n",
    "We will train this model on 5 epochs on our 5200 tweets. We will evaluate the model on the validation set at the end of each epoch and save the best model based on the f1-score on the validation set."
   ]
  },
  {
   "cell_type": "markdown",
   "metadata": {
    "id": "xt7JpfRhZhiJ"
   },
   "source": [
    "### Eval and train function"
   ]
  },
  {
   "cell_type": "code",
   "execution_count": 18,
   "metadata": {
    "id": "YkBh2XD3b-lU"
   },
   "outputs": [],
   "source": [
    "def eval(y_batch, probas):\n",
    "    preds_batch_np = np.round(probas.cpu().detach().numpy())\n",
    "    y_batch_np = y_batch.cpu().detach().numpy()\n",
    "    acc = accuracy_score(y_true=y_batch_np, y_pred=preds_batch_np)\n",
    "    f1 = f1_score(y_true=y_batch_np, y_pred=preds_batch_np, average='weighted')\n",
    "    return acc, f1\n",
    "\n",
    "    \n",
    "\n",
    "def train(model, optimizer, scheduler, epochs, name):\n",
    "    history = []\n",
    "    best_f1 = 0\n",
    "    model.train()\n",
    "    for epoch in range(epochs):\n",
    "        \n",
    "        # ===== train =====\n",
    "        print(\"=== Epoch: \", epoch+1, \" / \", epochs, \" ===\")\n",
    "        acc_total = 0\n",
    "        f1_total = 0\n",
    "        for it, batch in enumerate(train_dataloader):\n",
    "            if (it % 20) == 0:\n",
    "                print(it)\n",
    "            x_batch, y_batch = [batch[0].to(device), batch[1].to(device)] # draw the batch\n",
    "            probas = torch.flatten(model(tokens=x_batch))\n",
    "            acc_f1_batch = eval(y_batch, probas)\n",
    "            acc_total, f1_total = acc_total + acc_f1_batch[0], f1_total + acc_f1_batch[1]\n",
    "            model.zero_grad() # reset the gradients\n",
    "            loss_func = nn.BCELoss()\n",
    "            batch_loss = loss_func(probas, y_batch)\n",
    "            batch_loss.backward() # calculate gradient per (learnable) weight\n",
    "            optimizer.step() # update (learnable) weights\n",
    "            scheduler.step() # update learning rate\n",
    "        acc_total = acc_total/len(train_dataloader) #len(train dataloader)=num_batches\n",
    "        f1_total = f1_total/len(train_dataloader)\n",
    "        print(\"accuracy: \", acc_total, \"\\nf1: \", f1_total)\n",
    "\n",
    "        # ===== validate =====\n",
    "        acc_val_total = 0\n",
    "        f1_val_total = 0\n",
    "        for batch in validation_dataloader:\n",
    "            x_batch, y_batch = [batch[0].to(device), batch[1].to(device)]\n",
    "            with torch.no_grad(): # gradients don't have to be computed, because no update is performed\n",
    "                probas = torch.flatten(model(tokens=x_batch))\n",
    "            acc_f1_val_batch = eval(y_batch, probas)\n",
    "            acc_val_total, f1_val_total = acc_val_total + acc_f1_val_batch[0], f1_val_total + acc_f1_val_batch[1]\n",
    "        acc_val_total = acc_val_total/len(validation_dataloader)\n",
    "        f1_val_total = f1_val_total/len(validation_dataloader)\n",
    "        print(\"validation accuracy: \", acc_val_total, \"\\nvalidation f1: \", f1_val_total, \"\\n\")\n",
    "        if(f1_val_total>best_f1): # save current mdoel if this epoch improved models validation performance \n",
    "            torch.save(model, name+\".pt\")\n",
    "            best_f1 = f1_val_total\n",
    "\n",
    "        history.append({\"epoch\": epoch, \"acc\":acc_total, \"f1\":f1_total, \"acc_val\":acc_val_total, \"f1_val\":f1_val_total})\n",
    "    return history"
   ]
  },
  {
   "cell_type": "markdown",
   "metadata": {
    "id": "SLrhrpeSZhiJ"
   },
   "source": [
    "### Start training "
   ]
  },
  {
   "cell_type": "code",
   "execution_count": 19,
   "metadata": {
    "colab": {
     "base_uri": "https://localhost:8080/"
    },
    "id": "Y9C1jKxfeMWf",
    "outputId": "f54e7252-de37-4372-b7e4-88ff089aa2ee"
   },
   "outputs": [
    {
     "name": "stderr",
     "output_type": "stream",
     "text": [
      "Some weights of the model checkpoint at bert-base-uncased were not used when initializing BertModel: ['cls.predictions.transform.dense.weight', 'cls.seq_relationship.bias', 'cls.predictions.bias', 'cls.predictions.decoder.weight', 'cls.predictions.transform.LayerNorm.weight', 'cls.seq_relationship.weight', 'cls.predictions.transform.dense.bias', 'cls.predictions.transform.LayerNorm.bias']\n",
      "- This IS expected if you are initializing BertModel from the checkpoint of a model trained on another task or with another architecture (e.g. initializing a BertForSequenceClassification model from a BertForPreTraining model).\n",
      "- This IS NOT expected if you are initializing BertModel from the checkpoint of a model that you expect to be exactly identical (initializing a BertForSequenceClassification model from a BertForSequenceClassification model).\n"
     ]
    },
    {
     "name": "stdout",
     "output_type": "stream",
     "text": [
      "=== Epoch:  1  /  5  ===\n",
      "0\n",
      "20\n",
      "40\n",
      "60\n",
      "80\n",
      "100\n",
      "120\n",
      "140\n",
      "160\n",
      "accuracy:  0.7893939393939394 \n",
      "f1:  0.7817130800514509\n",
      "validation accuracy:  0.8394097222222222 \n",
      "validation f1:  0.8354012091477905 \n",
      "\n",
      "=== Epoch:  2  /  5  ===\n",
      "0\n",
      "20\n",
      "40\n",
      "60\n",
      "80\n",
      "100\n",
      "120\n",
      "140\n",
      "160\n",
      "accuracy:  0.8710227272727272 \n",
      "f1:  0.8693651528298577\n",
      "validation accuracy:  0.8263888888888888 \n",
      "validation f1:  0.826830747868641 \n",
      "\n",
      "=== Epoch:  3  /  5  ===\n",
      "0\n",
      "20\n",
      "40\n",
      "60\n",
      "80\n",
      "100\n",
      "120\n",
      "140\n",
      "160\n",
      "accuracy:  0.9053030303030303 \n",
      "f1:  0.9041178436894274\n",
      "validation accuracy:  0.8472222222222222 \n",
      "validation f1:  0.8449064061612177 \n",
      "\n",
      "=== Epoch:  4  /  5  ===\n",
      "0\n",
      "20\n",
      "40\n",
      "60\n",
      "80\n",
      "100\n",
      "120\n",
      "140\n",
      "160\n",
      "accuracy:  0.9348484848484848 \n",
      "f1:  0.9343778984944378\n",
      "validation accuracy:  0.8263888888888888 \n",
      "validation f1:  0.8253259207362528 \n",
      "\n",
      "=== Epoch:  5  /  5  ===\n",
      "0\n",
      "20\n",
      "40\n",
      "60\n",
      "80\n",
      "100\n",
      "120\n",
      "140\n",
      "160\n",
      "accuracy:  0.9471590909090909 \n",
      "f1:  0.946669828762785\n",
      "validation accuracy:  0.8307291666666666 \n",
      "validation f1:  0.8299339846123849 \n",
      "\n"
     ]
    }
   ],
   "source": [
    "epochs = 5\n",
    "# Build model\n",
    "baseline_bert_clf = BertClassifier()\n",
    "# load model in device\n",
    "baseline_bert_clf = baseline_bert_clf.to(device)\n",
    "# create optimizer\n",
    "adam = AdamW(baseline_bert_clf.parameters(), lr=2e-5, eps=1e-8)\n",
    "# Create scheduler\n",
    "total_steps = len(train_dataloader) * epochs\n",
    "sched = get_linear_schedule_with_warmup(adam, num_warmup_steps=0, num_training_steps=total_steps)\n",
    "# Launch training\n",
    "history = train(model=baseline_bert_clf, optimizer=adam, scheduler=sched, epochs=epochs, name=\"../models/baseline_bert_clf\")"
   ]
  },
  {
   "cell_type": "markdown",
   "metadata": {
    "id": "Lj5s68RPZhiK"
   },
   "source": [
    "### Visualisation of the training history"
   ]
  },
  {
   "cell_type": "code",
   "execution_count": 20,
   "metadata": {
    "colab": {
     "base_uri": "https://localhost:8080/",
     "height": 204
    },
    "id": "kskmVTUEeTmQ",
    "outputId": "dca62b08-78f5-41d8-d04a-e88b1440c690"
   },
   "outputs": [
    {
     "data": {
      "text/html": [
       "<div>\n",
       "<style scoped>\n",
       "    .dataframe tbody tr th:only-of-type {\n",
       "        vertical-align: middle;\n",
       "    }\n",
       "\n",
       "    .dataframe tbody tr th {\n",
       "        vertical-align: top;\n",
       "    }\n",
       "\n",
       "    .dataframe thead th {\n",
       "        text-align: right;\n",
       "    }\n",
       "</style>\n",
       "<table border=\"1\" class=\"dataframe\">\n",
       "  <thead>\n",
       "    <tr style=\"text-align: right;\">\n",
       "      <th></th>\n",
       "      <th>epoch</th>\n",
       "      <th>acc</th>\n",
       "      <th>f1</th>\n",
       "      <th>acc_val</th>\n",
       "      <th>f1_val</th>\n",
       "    </tr>\n",
       "  </thead>\n",
       "  <tbody>\n",
       "    <tr>\n",
       "      <th>0</th>\n",
       "      <td>0</td>\n",
       "      <td>0.789394</td>\n",
       "      <td>0.781713</td>\n",
       "      <td>0.839410</td>\n",
       "      <td>0.835401</td>\n",
       "    </tr>\n",
       "    <tr>\n",
       "      <th>1</th>\n",
       "      <td>1</td>\n",
       "      <td>0.871023</td>\n",
       "      <td>0.869365</td>\n",
       "      <td>0.826389</td>\n",
       "      <td>0.826831</td>\n",
       "    </tr>\n",
       "    <tr>\n",
       "      <th>2</th>\n",
       "      <td>2</td>\n",
       "      <td>0.905303</td>\n",
       "      <td>0.904118</td>\n",
       "      <td>0.847222</td>\n",
       "      <td>0.844906</td>\n",
       "    </tr>\n",
       "    <tr>\n",
       "      <th>3</th>\n",
       "      <td>3</td>\n",
       "      <td>0.934848</td>\n",
       "      <td>0.934378</td>\n",
       "      <td>0.826389</td>\n",
       "      <td>0.825326</td>\n",
       "    </tr>\n",
       "    <tr>\n",
       "      <th>4</th>\n",
       "      <td>4</td>\n",
       "      <td>0.947159</td>\n",
       "      <td>0.946670</td>\n",
       "      <td>0.830729</td>\n",
       "      <td>0.829934</td>\n",
       "    </tr>\n",
       "  </tbody>\n",
       "</table>\n",
       "</div>"
      ],
      "text/plain": [
       "   epoch       acc        f1   acc_val    f1_val\n",
       "0      0  0.789394  0.781713  0.839410  0.835401\n",
       "1      1  0.871023  0.869365  0.826389  0.826831\n",
       "2      2  0.905303  0.904118  0.847222  0.844906\n",
       "3      3  0.934848  0.934378  0.826389  0.825326\n",
       "4      4  0.947159  0.946670  0.830729  0.829934"
      ]
     },
     "execution_count": 20,
     "metadata": {
      "tags": []
     },
     "output_type": "execute_result"
    }
   ],
   "source": [
    "history_df = pd.DataFrame(history)\n",
    "history_df"
   ]
  },
  {
   "cell_type": "code",
   "execution_count": 21,
   "metadata": {
    "colab": {
     "base_uri": "https://localhost:8080/",
     "height": 295
    },
    "id": "WqXHOxm_eetR",
    "outputId": "ed518c82-2247-4576-e38f-c6b9d1e0a6d3"
   },
   "outputs": [
    {
     "data": {
      "image/png": "[encoded data removed]",
      "text/plain": [
       "<Figure size 432x288 with 1 Axes>"
      ]
     },
     "metadata": {
      "needs_background": "light",
      "tags": []
     },
     "output_type": "display_data"
    }
   ],
   "source": [
    "fig, ax = plt.subplots()\n",
    "ax.set_title(\"f1 history\")\n",
    "ax.set_ylabel(\"f1\")\n",
    "ax.set_xlabel(\"epoch\")\n",
    "plt.xticks(ticks=np.arange(0,20), labels=np.arange(1,21))\n",
    "history_df.loc[:,['f1', 'f1_val']].plot(ax=ax)\n",
    "plt.show()"
   ]
  },
  {
   "cell_type": "code",
   "execution_count": 22,
   "metadata": {
    "colab": {
     "base_uri": "https://localhost:8080/",
     "height": 295
    },
    "id": "pGb84vXGgb2X",
    "outputId": "f48459e1-09be-4934-909c-04d0c9d64f1d"
   },
   "outputs": [
    {
     "data": {
      "image/png": "[encoded data removed]",
      "text/plain": [
       "<Figure size 432x288 with 1 Axes>"
      ]
     },
     "metadata": {
      "needs_background": "light",
      "tags": []
     },
     "output_type": "display_data"
    }
   ],
   "source": [
    "fig, ax = plt.subplots()\n",
    "ax.set_title(\"accuracy history\")\n",
    "ax.set_ylabel(\"accuracy\")\n",
    "ax.set_xlabel(\"epoch\")\n",
    "plt.xticks(ticks=np.arange(0,20), labels=np.arange(1,21))\n",
    "history_df.loc[:,['acc', 'acc_val']].plot(ax=ax)\n",
    "plt.show()"
   ]
  },
  {
   "cell_type": "markdown",
   "metadata": {
    "id": "cLvJFeE5kSxJ"
   },
   "source": [
    "## Evaluate model\n",
    "We load our best model on the validation set based on the f1-score, and evaluate it on the test set."
   ]
  },
  {
   "cell_type": "code",
   "execution_count": 23,
   "metadata": {
    "id": "MehUcRHMo352"
   },
   "outputs": [],
   "source": [
    "model = torch.load(\"../models/baseline_bert_clf.pt\")"
   ]
  },
  {
   "cell_type": "code",
   "execution_count": 24,
   "metadata": {
    "colab": {
     "base_uri": "https://localhost:8080/"
    },
    "id": "HnKJ2QxPhwHi",
    "outputId": "185c0b51-27fe-4a53-9c8b-e3dab01d4fce"
   },
   "outputs": [
    {
     "name": "stdout",
     "output_type": "stream",
     "text": [
      "Test accuracy:  0.8270640432098766 \n",
      "Test f1:  0.8254784028127033 \n",
      "\n"
     ]
    }
   ],
   "source": [
    "preds_np = np.array([])\n",
    "y_np = np.array([])\n",
    "acc_test_total = 0\n",
    "f1_test_total = 0\n",
    "for batch in test_dataloader:\n",
    "    x_batch, y_batch = [batch[0].to(device), batch[1].to(device)]\n",
    "    with torch.no_grad(): # gradients don't have to be computed, because no update is performed\n",
    "        probas = torch.flatten(model(tokens=x_batch))\n",
    "    preds_batch_np = np.round(probas.cpu().detach().numpy())\n",
    "    preds_np = np.concatenate((preds_np, preds_batch_np))\n",
    "    y_batch_np = y_batch.cpu().detach().numpy()\n",
    "    y_np = np.concatenate((y_np, y_batch_np))\n",
    "    acc_f1_test_batch = eval(y_batch, probas)\n",
    "    acc_test_total, f1_test_total = acc_test_total + acc_f1_test_batch[0], f1_test_total + acc_f1_test_batch[1]\n",
    "acc_test_total = acc_test_total/len(test_dataloader)\n",
    "f1_test_total = f1_test_total/len(test_dataloader)\n",
    "print(\"Test accuracy: \", acc_test_total, \"\\nTest f1: \", f1_test_total, \"\\n\")"
   ]
  },
  {
   "cell_type": "markdown",
   "metadata": {
    "id": "Cwd4rrj3ZhiM"
   },
   "source": [
    "### Confusion matrix\n"
   ]
  },
  {
   "cell_type": "code",
   "execution_count": 25,
   "metadata": {
    "colab": {
     "base_uri": "https://localhost:8080/",
     "height": 515
    },
    "id": "W7TWDklpXQ8d",
    "outputId": "bed22bf1-d43c-4386-be56-00f9dce1c0b4"
   },
   "outputs": [
    {
     "data": {
      "image/png": "[encoded data removed]",
      "text/plain": [
       "<Figure size 576x576 with 2 Axes>"
      ]
     },
     "metadata": {
      "needs_background": "light",
      "tags": []
     },
     "output_type": "display_data"
    }
   ],
   "source": [
    "conf_mat = confusion_matrix(y_np, preds_np)\n",
    "fig, ax = plt.subplots(figsize=(8,8))\n",
    "sns.heatmap(conf_mat, annot=True, cmap=\"Blues\", fmt='d',\n",
    "            xticklabels=['negative', 'positive'], \n",
    "            yticklabels=['negative', 'positive'])\n",
    "plt.ylabel('Ground truth')\n",
    "plt.xlabel('Predicted')\n",
    "plt.title(\"CONFUSION MATRIX\", size=16);"
   ]
  },
  {
   "cell_type": "markdown",
   "metadata": {
    "id": "GgT53ZUoUjtr"
   },
   "source": [
    "#### *Observation:*\n",
    "The prediction errors from the model are not perfectly balanced but when we tried to fix it it overall made the performance slightly worst. However with an f1 score and an accuracy over 82%, the model is performing pretty well."
   ]
  },
  {
   "cell_type": "code",
   "execution_count": null,
   "metadata": {
    "id": "0Z1RPX6ojBTi"
   },
   "outputs": [],
   "source": []
  }
 ],
 "metadata": {
  "accelerator": "GPU",
  "colab": {
   "name": "bert_disaster_tweets.ipynb",
   "provenance": []
  },
  "environment": {
   "name": "common-cpu.m65",
   "type": "gcloud",
   "uri": "gcr.io/deeplearning-platform-release/base-cpu:m65"
  },
  "kernelspec": {
   "display_name": "Python 3",
   "language": "python",
   "name": "python3"
  },
  "language_info": {
   "codemirror_mode": {
    "name": "ipython",
    "version": 3
   },
   "file_extension": ".py",
   "mimetype": "text/x-python",
   "name": "python",
   "nbconvert_exporter": "python",
   "pygments_lexer": "ipython3",
   "version": "3.7.10"
  }
 },
 "nbformat": 4,
 "nbformat_minor": 4
}
